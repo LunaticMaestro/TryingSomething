{
 "cells": [
  {
   "cell_type": "code",
   "execution_count": 1,
   "metadata": {},
   "outputs": [],
   "source": [
    "import pandas as pd\n",
    "import numpy as np\n",
    "import matplotlib.pyplot as plt"
   ]
  },
  {
   "cell_type": "code",
   "execution_count": 2,
   "metadata": {},
   "outputs": [],
   "source": [
    "df=pd.read_csv(\"user_purposes.csv\")"
   ]
  },
  {
   "cell_type": "code",
   "execution_count": 41,
   "metadata": {},
   "outputs": [
    {
     "data": {
      "text/plain": [
       "(34379, 16)"
      ]
     },
     "execution_count": 41,
     "metadata": {},
     "output_type": "execute_result"
    }
   ],
   "source": [
    "df.shape"
   ]
  },
  {
   "cell_type": "code",
   "execution_count": 42,
   "metadata": {},
   "outputs": [],
   "source": [
    "# df=df[:1000]"
   ]
  },
  {
   "cell_type": "code",
   "execution_count": 43,
   "metadata": {},
   "outputs": [
    {
     "data": {
      "text/plain": [
       "user_id          0\n",
       "purpose_id_1     0\n",
       "purpose_id_2     0\n",
       "purpose_id_3     0\n",
       "purpose_id_4     0\n",
       "purpose_id_5     0\n",
       "purpose_id_6     0\n",
       "purpose_id_7     0\n",
       "purpose_id_8     0\n",
       "purpose_id_9     0\n",
       "purpose_id_10    0\n",
       "purpose_id_11    0\n",
       "purpose_id_12    0\n",
       "purpose_id_13    0\n",
       "purpose_id_14    0\n",
       "purpose_id_15    0\n",
       "dtype: int64"
      ]
     },
     "execution_count": 43,
     "metadata": {},
     "output_type": "execute_result"
    }
   ],
   "source": [
    "df.isnull().sum()"
   ]
  },
  {
   "cell_type": "code",
   "execution_count": 44,
   "metadata": {},
   "outputs": [],
   "source": [
    "plt.style.use(\"seaborn\")\n"
   ]
  },
  {
   "cell_type": "code",
   "execution_count": 45,
   "metadata": {},
   "outputs": [],
   "source": [
    "x=df[\"user_id\"]\n",
    "x=list(x)\n",
    "x=np.array(x)"
   ]
  },
  {
   "cell_type": "code",
   "execution_count": 46,
   "metadata": {},
   "outputs": [],
   "source": [
    "y=['purpose_id_1', 'purpose_id_2', 'purpose_id_3',\n",
    "       'purpose_id_4', 'purpose_id_5', 'purpose_id_6', 'purpose_id_7',\n",
    "       'purpose_id_8', 'purpose_id_9', 'purpose_id_10', 'purpose_id_11',\n",
    "       'purpose_id_12', 'purpose_id_13', 'purpose_id_14', 'purpose_id_15']"
   ]
  },
  {
   "cell_type": "code",
   "execution_count": 47,
   "metadata": {},
   "outputs": [
    {
     "data": {
      "image/png": "[encoded data removed]",
      "text/plain": [
       "<Figure size 576x396 with 1 Axes>"
      ]
     },
     "metadata": {},
     "output_type": "display_data"
    }
   ],
   "source": [
    "p=0.5\n",
    "for i in range(len(y)):\n",
    "    j=df[y[i]]\n",
    "    j=list(j)\n",
    "    plt.bar(x+p,i,width=0.5)\n",
    "    p+=1\n",
    "    \n",
    "    "
   ]
  },
  {
   "cell_type": "code",
   "execution_count": 95,
   "metadata": {},
   "outputs": [
    {
     "name": "stdout",
     "output_type": "stream",
     "text": [
      "       user_id  purpose_id_1  purpose_id_2  purpose_id_3  purpose_id_4  \\\n",
      "2           41             0             0             1             1   \n",
      "8          281             0             0             1             0   \n",
      "13         381             0             1             0             0   \n",
      "14         391             0             0             0             0   \n",
      "17         531             0             0             0             1   \n",
      "...        ...           ...           ...           ...           ...   \n",
      "34363  6345199             0             0             0             1   \n",
      "34366  6345215             0             0             0             1   \n",
      "34370  6345226             0             0             1             1   \n",
      "34373  6345233             0             0             0             0   \n",
      "34375  6345237             0             0             1             0   \n",
      "\n",
      "       purpose_id_5  purpose_id_6  purpose_id_7  purpose_id_8  purpose_id_9  \\\n",
      "2                 1             0             1             0             1   \n",
      "8                 0             0             1             0             1   \n",
      "13                0             0             0             0             0   \n",
      "14                0             0             1             0             0   \n",
      "17                0             0             1             0             0   \n",
      "...             ...           ...           ...           ...           ...   \n",
      "34363             0             0             0             0             0   \n",
      "34366             0             0             0             0             0   \n",
      "34370             0             0             0             0             1   \n",
      "34373             1             1             0             0             1   \n",
      "34375             1             0             1             0             0   \n",
      "\n",
      "       purpose_id_10  purpose_id_11  purpose_id_12  purpose_id_13  \\\n",
      "2                  0              0              0              0   \n",
      "8                  0              1              0              0   \n",
      "13                 0              0              0              0   \n",
      "14                 0              0              0              0   \n",
      "17                 0              1              0              0   \n",
      "...              ...            ...            ...            ...   \n",
      "34363              0              0              1              1   \n",
      "34366              0              0              1              1   \n",
      "34370              0              0              0              0   \n",
      "34373              0              0              0              0   \n",
      "34375              0              0              0              0   \n",
      "\n",
      "       purpose_id_14  purpose_id_15  \n",
      "2                  0              0  \n",
      "8                  0              0  \n",
      "13                 0              0  \n",
      "14                 0              1  \n",
      "17                 0              0  \n",
      "...              ...            ...  \n",
      "34363              0              0  \n",
      "34366              0              0  \n",
      "34370              0              0  \n",
      "34373              0              0  \n",
      "34375              0              1  \n",
      "\n",
      "[5704 rows x 16 columns]\n",
      "       user_id  purpose_id_1  purpose_id_2  purpose_id_3  purpose_id_4  \\\n",
      "0            1             1             1             1             1   \n",
      "1           21             1             1             0             0   \n",
      "3           51             1             1             1             1   \n",
      "4          151             1             1             0             0   \n",
      "5          191             1             0             0             1   \n",
      "...        ...           ...           ...           ...           ...   \n",
      "34372  6345232             1             1             0             0   \n",
      "34374  6345235             1             0             0             0   \n",
      "34376  6345239             1             0             0             0   \n",
      "34377  6345240             1             0             0             0   \n",
      "34378  6345243             1             1             0             0   \n",
      "\n",
      "       purpose_id_5  purpose_id_6  purpose_id_7  purpose_id_8  purpose_id_9  \\\n",
      "0                 1             1             1             0             0   \n",
      "1                 1             0             1             0             1   \n",
      "3                 1             1             1             0             0   \n",
      "4                 1             1             0             0             0   \n",
      "5                 0             0             1             0             0   \n",
      "...             ...           ...           ...           ...           ...   \n",
      "34372             1             0             0             0             1   \n",
      "34374             1             1             0             0             0   \n",
      "34376             1             0             0             1             0   \n",
      "34377             1             0             0             0             0   \n",
      "34378             1             1             0             0             0   \n",
      "\n",
      "       purpose_id_10  purpose_id_11  purpose_id_12  purpose_id_13  \\\n",
      "0                  1              0              1              0   \n",
      "1                  0              0              0              0   \n",
      "3                  0              0              0              0   \n",
      "4                  0              0              0              0   \n",
      "5                  0              0              0              0   \n",
      "...              ...            ...            ...            ...   \n",
      "34372              0              0              1              0   \n",
      "34374              0              0              0              0   \n",
      "34376              0              0              0              0   \n",
      "34377              0              0              1              1   \n",
      "34378              0              0              0              1   \n",
      "\n",
      "       purpose_id_14  purpose_id_15  \n",
      "0                  0              0  \n",
      "1                  0              1  \n",
      "3                  0              1  \n",
      "4                  0              1  \n",
      "5                  0              0  \n",
      "...              ...            ...  \n",
      "34372              0              0  \n",
      "34374              0              0  \n",
      "34376              0              0  \n",
      "34377              0              0  \n",
      "34378              0              0  \n",
      "\n",
      "[28525 rows x 16 columns]\n",
      "       user_id  purpose_id_1  purpose_id_2  purpose_id_3  purpose_id_4  \\\n",
      "486      18413             2             2             0             0   \n",
      "877      22976             2             0             2             2   \n",
      "1459     28631             2             2             2             2   \n",
      "1519     29469             2             2             1             0   \n",
      "1647     32809             2             2             2             2   \n",
      "...        ...           ...           ...           ...           ...   \n",
      "28927  6332241             2             2             0             0   \n",
      "29146  6332700             2             2             0             0   \n",
      "29418  6333259             2             1             0             2   \n",
      "30368  6335103             2             2             0             0   \n",
      "32411  6339019             2             0             0             0   \n",
      "\n",
      "       purpose_id_5  purpose_id_6  purpose_id_7  purpose_id_8  purpose_id_9  \\\n",
      "486               2             0             0             0             2   \n",
      "877               2             2             2             0             0   \n",
      "1459              2             2             2             2             2   \n",
      "1519              2             1             1             2             1   \n",
      "1647              2             2             0             0             2   \n",
      "...             ...           ...           ...           ...           ...   \n",
      "28927             0             0             2             0             0   \n",
      "29146             2             0             0             2             0   \n",
      "29418             2             0             0             0             2   \n",
      "30368             0             0             0             0             2   \n",
      "32411             0             0             0             0             0   \n",
      "\n",
      "       purpose_id_10  purpose_id_11  purpose_id_12  purpose_id_13  \\\n",
      "486                0              0              0              0   \n",
      "877                0              0              0              0   \n",
      "1459               0              0              2              0   \n",
      "1519               0              0              2              1   \n",
      "1647               2              2              2              0   \n",
      "...              ...            ...            ...            ...   \n",
      "28927              0              0              0              0   \n",
      "29146              0              0              0              0   \n",
      "29418              0              0              2              2   \n",
      "30368              0              0              2              2   \n",
      "32411              0              0              0              0   \n",
      "\n",
      "       purpose_id_14  purpose_id_15  \n",
      "486                0              2  \n",
      "877                0              0  \n",
      "1459               0              2  \n",
      "1519               0              2  \n",
      "1647               0              2  \n",
      "...              ...            ...  \n",
      "28927              0              2  \n",
      "29146              0              2  \n",
      "29418              0              0  \n",
      "30368              0              0  \n",
      "32411              0              0  \n",
      "\n",
      "[133 rows x 16 columns]\n",
      "       user_id  purpose_id_1  purpose_id_2  purpose_id_3  purpose_id_4  \\\n",
      "1297     26993             3             3             0             3   \n",
      "5877   1106787             3             0             3             3   \n",
      "13501  6282003             3             3             0             3   \n",
      "15501  6288396             3             0             0             3   \n",
      "16732  6292585             3             3             0             0   \n",
      "17552  6295309             3             3             0             0   \n",
      "17831  6296325             3             0             3             3   \n",
      "21245  6307161             3             3             0             3   \n",
      "22196  6310482             3             0             0             0   \n",
      "22746  6312540             3             3             0             3   \n",
      "24832  6321913             3             3             0             0   \n",
      "25905  6325514             3             3             0             3   \n",
      "28080  6330383             3             3             3             3   \n",
      "\n",
      "       purpose_id_5  purpose_id_6  purpose_id_7  purpose_id_8  purpose_id_9  \\\n",
      "1297              3             0             0             0             0   \n",
      "5877              0             0             0             0             0   \n",
      "13501             3             0             0             0             2   \n",
      "15501             3             0             3             0             0   \n",
      "16732             3             3             0             0             0   \n",
      "17552             3             0             0             1             0   \n",
      "17831             3             0             3             0             0   \n",
      "21245             3             3             0             3             3   \n",
      "22196             3             0             0             0             0   \n",
      "22746             3             0             0             3             3   \n",
      "24832             3             0             0             3             0   \n",
      "25905             3             0             0             0             3   \n",
      "28080             3             3             0             0             3   \n",
      "\n",
      "       purpose_id_10  purpose_id_11  purpose_id_12  purpose_id_13  \\\n",
      "1297               0              0              3              0   \n",
      "5877               3              0              3              0   \n",
      "13501              0              0              2              0   \n",
      "15501              0              0              3              3   \n",
      "16732              0              0              0              0   \n",
      "17552              0              0              0              0   \n",
      "17831              3              0              0              3   \n",
      "21245              0              0              0              0   \n",
      "22196              0              0              0              0   \n",
      "22746              0              0              3              3   \n",
      "24832              0              0              0              0   \n",
      "25905              0              0              3              3   \n",
      "28080              0              0              0              0   \n",
      "\n",
      "       purpose_id_14  purpose_id_15  \n",
      "1297               0              0  \n",
      "5877               0              0  \n",
      "13501              0              3  \n",
      "15501              0              3  \n",
      "16732              0              0  \n",
      "17552              0              3  \n",
      "17831              0              0  \n",
      "21245              0              1  \n",
      "22196              0              0  \n",
      "22746              0              3  \n",
      "24832              0              0  \n",
      "25905              0              3  \n",
      "28080              0              0  \n",
      "       user_id  purpose_id_1  purpose_id_2  purpose_id_3  purpose_id_4  \\\n",
      "12425  6276976             4             4             4             4   \n",
      "26960  6327980             4             0             0             4   \n",
      "\n",
      "       purpose_id_5  purpose_id_6  purpose_id_7  purpose_id_8  purpose_id_9  \\\n",
      "12425             1             0             4             4             4   \n",
      "26960             4             0             0             0             4   \n",
      "\n",
      "       purpose_id_10  purpose_id_11  purpose_id_12  purpose_id_13  \\\n",
      "12425              4              4              0              0   \n",
      "26960              0              0              0              0   \n",
      "\n",
      "       purpose_id_14  purpose_id_15  \n",
      "12425              0              4  \n",
      "26960              0              0  \n",
      "       user_id  purpose_id_1  purpose_id_2  purpose_id_3  purpose_id_4  \\\n",
      "15695  6289083             5             5             0             5   \n",
      "\n",
      "       purpose_id_5  purpose_id_6  purpose_id_7  purpose_id_8  purpose_id_9  \\\n",
      "15695             5             0             0             0             0   \n",
      "\n",
      "       purpose_id_10  purpose_id_11  purpose_id_12  purpose_id_13  \\\n",
      "15695              0              0              0              0   \n",
      "\n",
      "       purpose_id_14  purpose_id_15  \n",
      "15695              0              0  \n",
      "       user_id  purpose_id_1  purpose_id_2  purpose_id_3  purpose_id_4  \\\n",
      "15871  6289620             6             6             0             6   \n",
      "\n",
      "       purpose_id_5  purpose_id_6  purpose_id_7  purpose_id_8  purpose_id_9  \\\n",
      "15871             6             6             6             0             0   \n",
      "\n",
      "       purpose_id_10  purpose_id_11  purpose_id_12  purpose_id_13  \\\n",
      "15871              0              0              0              0   \n",
      "\n",
      "       purpose_id_14  purpose_id_15  \n",
      "15871              0              0  \n"
     ]
    }
   ],
   "source": [
    "for i in range(0,7):\n",
    "    print(df[df[\"purpose_id_1\"].values==i])\n",
    "#     counts=np.unique(df[\"purpose_id_1\"].value_counts,return_counts=True)\n",
    "#     print(counts)"
   ]
  },
  {
   "cell_type": "code",
   "execution_count": 103,
   "metadata": {},
   "outputs": [
    {
     "data": {
      "text/html": [
       "<div>\n",
       "<style scoped>\n",
       "    .dataframe tbody tr th:only-of-type {\n",
       "        vertical-align: middle;\n",
       "    }\n",
       "\n",
       "    .dataframe tbody tr th {\n",
       "        vertical-align: top;\n",
       "    }\n",
       "\n",
       "    .dataframe thead th {\n",
       "        text-align: right;\n",
       "    }\n",
       "</style>\n",
       "<table border=\"1\" class=\"dataframe\">\n",
       "  <thead>\n",
       "    <tr style=\"text-align: right;\">\n",
       "      <th></th>\n",
       "      <th>user_id</th>\n",
       "      <th>purpose_id_1</th>\n",
       "      <th>purpose_id_2</th>\n",
       "      <th>purpose_id_3</th>\n",
       "      <th>purpose_id_4</th>\n",
       "      <th>purpose_id_5</th>\n",
       "      <th>purpose_id_6</th>\n",
       "      <th>purpose_id_7</th>\n",
       "      <th>purpose_id_8</th>\n",
       "      <th>purpose_id_9</th>\n",
       "      <th>purpose_id_10</th>\n",
       "      <th>purpose_id_11</th>\n",
       "      <th>purpose_id_12</th>\n",
       "      <th>purpose_id_13</th>\n",
       "      <th>purpose_id_14</th>\n",
       "      <th>purpose_id_15</th>\n",
       "    </tr>\n",
       "  </thead>\n",
       "  <tbody>\n",
       "    <tr>\n",
       "      <th>15871</th>\n",
       "      <td>6289620</td>\n",
       "      <td>6</td>\n",
       "      <td>6</td>\n",
       "      <td>0</td>\n",
       "      <td>6</td>\n",
       "      <td>6</td>\n",
       "      <td>6</td>\n",
       "      <td>6</td>\n",
       "      <td>0</td>\n",
       "      <td>0</td>\n",
       "      <td>0</td>\n",
       "      <td>0</td>\n",
       "      <td>0</td>\n",
       "      <td>0</td>\n",
       "      <td>0</td>\n",
       "      <td>0</td>\n",
       "    </tr>\n",
       "  </tbody>\n",
       "</table>\n",
       "</div>"
      ],
      "text/plain": [
       "       user_id  purpose_id_1  purpose_id_2  purpose_id_3  purpose_id_4  \\\n",
       "15871  6289620             6             6             0             6   \n",
       "\n",
       "       purpose_id_5  purpose_id_6  purpose_id_7  purpose_id_8  purpose_id_9  \\\n",
       "15871             6             6             6             0             0   \n",
       "\n",
       "       purpose_id_10  purpose_id_11  purpose_id_12  purpose_id_13  \\\n",
       "15871              0              0              0              0   \n",
       "\n",
       "       purpose_id_14  purpose_id_15  \n",
       "15871              0              0  "
      ]
     },
     "execution_count": 103,
     "metadata": {},
     "output_type": "execute_result"
    }
   ],
   "source": [
    "df[df[\"purpose_id_1\"].values==6]\n",
    "#tryinng to extract values of user_id from purpose id so i can show realtion in them "
   ]
  },
  {
   "cell_type": "code",
   "execution_count": 106,
   "metadata": {},
   "outputs": [
    {
     "data": {
      "text/plain": [
       "<matplotlib.axes._subplots.AxesSubplot at 0x1da48487550>"
      ]
     },
     "execution_count": 106,
     "metadata": {},
     "output_type": "execute_result"
    },
    {
     "data": {
      "image/png": "[encoded data removed]",
      "text/plain": [
       "<Figure size 576x396 with 1 Axes>"
      ]
     },
     "metadata": {},
     "output_type": "display_data"
    }
   ],
   "source": [
    "df.plot.kde()"
   ]
  },
  {
   "cell_type": "code",
   "execution_count": 90,
   "metadata": {},
   "outputs": [
    {
     "data": {
      "text/plain": [
       "array([1], dtype=int64)"
      ]
     },
     "execution_count": 90,
     "metadata": {},
     "output_type": "execute_result"
    }
   ],
   "source": [
    "#below is wrong approach "
   ]
  },
  {
   "cell_type": "code",
   "execution_count": null,
   "metadata": {},
   "outputs": [],
   "source": [
    "y=df[ 'purpose_id_1']\n",
    "y=list(y)\n",
    "y=np.array(y)\n"
   ]
  },
  {
   "cell_type": "code",
   "execution_count": null,
   "metadata": {},
   "outputs": [],
   "source": [
    "y=df[ 'purpose_id_2']\n",
    "y=list(y)\n",
    "y2=np.array(y)\n"
   ]
  },
  {
   "cell_type": "code",
   "execution_count": null,
   "metadata": {},
   "outputs": [],
   "source": [
    "y=df[ 'purpose_id_3']\n",
    "y=list(y)\n",
    "y3=np.array(y)\n"
   ]
  },
  {
   "cell_type": "code",
   "execution_count": null,
   "metadata": {},
   "outputs": [],
   "source": [
    "y=df[ 'purpose_id_4']\n",
    "y=list(y)\n",
    "y4=np.array(y)\n"
   ]
  },
  {
   "cell_type": "code",
   "execution_count": null,
   "metadata": {},
   "outputs": [],
   "source": [
    "y=df[ 'purpose_id_5']\n",
    "y=list(y)\n",
    "y5=np.array(y)\n"
   ]
  },
  {
   "cell_type": "code",
   "execution_count": null,
   "metadata": {},
   "outputs": [],
   "source": [
    "y=df[ 'purpose_id_6']\n",
    "y=list(y)\n",
    "y6=np.array(y)\n"
   ]
  },
  {
   "cell_type": "code",
   "execution_count": null,
   "metadata": {},
   "outputs": [],
   "source": [
    "y=df[ 'purpose_id_7']\n",
    "y=list(y)\n",
    "y7=np.array(y)\n"
   ]
  },
  {
   "cell_type": "code",
   "execution_count": null,
   "metadata": {},
   "outputs": [],
   "source": [
    "y=df[ 'purpose_id_8']\n",
    "y=list(y)\n",
    "y8=np.array(y)\n"
   ]
  },
  {
   "cell_type": "code",
   "execution_count": null,
   "metadata": {},
   "outputs": [],
   "source": [
    "y=df[ 'purpose_id_9']\n",
    "y=list(y)\n",
    "y9=np.array(y)\n"
   ]
  },
  {
   "cell_type": "code",
   "execution_count": null,
   "metadata": {},
   "outputs": [],
   "source": [
    "y=df[ 'purpose_id_10']\n",
    "y=list(y)\n",
    "y10=np.array(y)\n"
   ]
  },
  {
   "cell_type": "code",
   "execution_count": null,
   "metadata": {},
   "outputs": [],
   "source": [
    "y=df[ 'purpose_id_11']\n",
    "y=list(y)\n",
    "y11=np.array(y)\n"
   ]
  },
  {
   "cell_type": "code",
   "execution_count": null,
   "metadata": {},
   "outputs": [],
   "source": [
    "y=df[ 'purpose_id_12']\n",
    "y=list(y)\n",
    "y12=np.array(y)\n"
   ]
  },
  {
   "cell_type": "code",
   "execution_count": null,
   "metadata": {},
   "outputs": [],
   "source": [
    "y=df[ 'purpose_id_13']\n",
    "y=list(y)\n",
    "y13=np.array(y)\n"
   ]
  },
  {
   "cell_type": "code",
   "execution_count": null,
   "metadata": {},
   "outputs": [],
   "source": [
    "y=df[ 'purpose_id_14']\n",
    "y=list(y)\n",
    "y14=np.array(y)\n"
   ]
  },
  {
   "cell_type": "code",
   "execution_count": null,
   "metadata": {},
   "outputs": [],
   "source": [
    "y=df[ 'purpose_id_15']\n",
    "y=list(y)\n",
    "y15=np.array(y)\n"
   ]
  },
  {
   "cell_type": "code",
   "execution_count": null,
   "metadata": {},
   "outputs": [],
   "source": [
    "plt.bar(x,y,width=0.5)\n",
    "plt.bar(x+0.5,y2,width=0.5)\n",
    "plt.bar(x+1.5,y3,width=0.5)\n",
    "plt.bar(x+2.5,y4,width=0.5)\n",
    "plt.bar(x+3.5,y5,width=0.5)\n",
    "plt.bar(x+5.5,y6,width=0.5)\n",
    "plt.bar(x+6.5,y7,width=0.5)\n",
    "plt.bar(x+7.5,y8,width=0.5)\n",
    "plt.bar(x+8.5,y9,width=0.5)\n",
    "plt.bar(x+9.5,y10,width=0.5)\n",
    "plt.bar(x+10.5,y11,width=0.5)\n",
    "plt.bar(x+11.5,y12,width=0.5)\n",
    "plt.bar(x+12.5,y13,width=0.5)\n",
    "plt.bar(x+13.5,y14,width=0.5)\n",
    "plt.bar(x+14.5,y15,width=0.5)\n",
    "\n",
    "plt.legend()\n",
    "plt.show()"
   ]
  },
  {
   "cell_type": "code",
   "execution_count": null,
   "metadata": {},
   "outputs": [],
   "source": [
    "plt.bar(x,y2,width=2)"
   ]
  },
  {
   "cell_type": "code",
   "execution_count": null,
   "metadata": {},
   "outputs": [],
   "source": [
    "plt.bar(x,3,width=0.5)"
   ]
  },
  {
   "cell_type": "code",
   "execution_count": null,
   "metadata": {},
   "outputs": [],
   "source": []
  },
  {
   "cell_type": "code",
   "execution_count": null,
   "metadata": {},
   "outputs": [],
   "source": []
  }
 ],
 "metadata": {
  "kernelspec": {
   "display_name": "Python 3",
   "language": "python",
   "name": "python3"
  },
  "language_info": {
   "codemirror_mode": {
    "name": "ipython",
    "version": 3
   },
   "file_extension": ".py",
   "mimetype": "text/x-python",
   "name": "python",
   "nbconvert_exporter": "python",
   "pygments_lexer": "ipython3",
   "version": "3.8.3"
  }
 },
 "nbformat": 4,
 "nbformat_minor": 4
}
