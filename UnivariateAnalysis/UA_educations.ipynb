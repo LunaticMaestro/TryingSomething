{
 "cells": [
  {
   "cell_type": "code",
   "execution_count": 13,
   "metadata": {},
   "outputs": [],
   "source": [
    "# Loading Libraries\n",
    "import pandas as pd\n",
    "import plotly_express as px\n",
    "import matplotlib.pyplot as plt\n",
    "import numpy as np\n",
    "\n",
    "%matplotlib inline\n",
    "plt.rcParams['figure.figsize']=(10,8)"
   ]
  },
  {
   "cell_type": "code",
   "execution_count": null,
   "metadata": {},
   "outputs": [],
   "source": [
    "# School Id"
   ]
  },
  {
   "cell_type": "code",
   "execution_count": 23,
   "metadata": {},
   "outputs": [
    {
     "data": {
      "text/plain": [
       "((61295, 3),\n",
       "    user_id  school_id  degree_id\n",
       " 0      151    11825.0        2.0\n",
       " 1      151    13556.0        NaN\n",
       " 2       41    11929.0        1.0\n",
       " 3       41    13087.0        NaN\n",
       " 4       51   999999.0        NaN)"
      ]
     },
     "execution_count": 23,
     "metadata": {},
     "output_type": "execute_result"
    }
   ],
   "source": [
    "# Loading Data\n",
    "df = pd.read_csv('user_educations.csv')\n",
    "df.shape, df.head()"
   ]
  },
  {
   "cell_type": "code",
   "execution_count": 25,
   "metadata": {},
   "outputs": [
    {
     "data": {
      "text/plain": [
       "user_id      object\n",
       "school_id    object\n",
       "degree_id    object\n",
       "dtype: object"
      ]
     },
     "execution_count": 25,
     "metadata": {},
     "output_type": "execute_result"
    }
   ],
   "source": [
    "df.dtypes"
   ]
  },
  {
   "cell_type": "code",
   "execution_count": 24,
   "metadata": {},
   "outputs": [],
   "source": [
    "# Fixing type variables\n",
    "type_correction = {'user_id': 'object',\n",
    "                  'school_id': 'object',\n",
    "                  'degree_id': 'object'}\n",
    "df = df.astype(type_correction)"
   ]
  },
  {
   "cell_type": "code",
   "execution_count": 26,
   "metadata": {},
   "outputs": [
    {
     "data": {
      "text/plain": [
       "user_id       0.00\n",
       "school_id     0.00\n",
       "degree_id    99.13\n",
       "dtype: float64"
      ]
     },
     "execution_count": 26,
     "metadata": {},
     "output_type": "execute_result"
    }
   ],
   "source": [
    "# Missing Value Proportions\n",
    "np.round(df.isnull().sum()/df.shape[0] * 100, 2)"
   ]
  },
  {
   "cell_type": "code",
   "execution_count": 27,
   "metadata": {},
   "outputs": [
    {
     "data": {
      "text/plain": [
       "user_id      41139\n",
       "school_id     1444\n",
       "degree_id        3\n",
       "dtype: int64"
      ]
     },
     "execution_count": 27,
     "metadata": {},
     "output_type": "execute_result"
    }
   ],
   "source": [
    "# Count of Uniuqe Categories\n",
    "df.nunique()"
   ]
  },
  {
   "cell_type": "code",
   "execution_count": 42,
   "metadata": {},
   "outputs": [
    {
     "data": {
      "text/plain": [
       "999999.0    15275\n",
       "11098.0      2239\n",
       "11278.0      1519\n",
       "10329.0      1295\n",
       "13370.0       912\n",
       "Name: school_id, dtype: int64"
      ]
     },
     "execution_count": 42,
     "metadata": {},
     "output_type": "execute_result"
    }
   ],
   "source": [
    "# Univariate Analysis of school_id\n",
    "temp = df.school_id.value_counts()\n",
    "temp.head()"
   ]
  },
  {
   "cell_type": "code",
   "execution_count": 52,
   "metadata": {},
   "outputs": [
    {
     "data": {
      "text/plain": [
       "999999.0    (10000, 50000]\n",
       "11098.0       (1000, 5000]\n",
       "11278.0       (1000, 5000]\n",
       "10329.0       (1000, 5000]\n",
       "13370.0        (500, 1000]\n",
       "                 ...      \n",
       "2762.0             (0, 50]\n",
       "10957.0            (0, 50]\n",
       "7072.0             (0, 50]\n",
       "10975.0            (0, 50]\n",
       "8193.0             (0, 50]\n",
       "Name: school_id, Length: 1444, dtype: category\n",
       "Categories (8, interval[int64]): [(0, 50] < (50, 100] < (100, 200] < (200, 500] < (500, 1000] < (1000, 5000] < (5000, 10000] < (10000, 50000]]"
      ]
     },
     "execution_count": 52,
     "metadata": {},
     "output_type": "execute_result"
    }
   ],
   "source": [
    "bins = [0, 50, 100, 200, 500, 1000, 5000, 10000, 50000]\n",
    "pd.cut(temp, bins=bins)"
   ]
  },
  {
   "cell_type": "markdown",
   "metadata": {},
   "source": [
    "# Insights\n",
    "- Fix type for `school_id` & `degree_id` to `object`.\n",
    "- Drop `degree_id`, it has missing data for 99% for  observations\n",
    "- Data avail for `41139` user only\n",
    "- There are `1444` unique schools in the region for study."
   ]
  },
  {
   "cell_type": "code",
   "execution_count": null,
   "metadata": {},
   "outputs": [],
   "source": []
  }
 ],
 "metadata": {
  "kernelspec": {
   "display_name": "Python 3",
   "language": "python",
   "name": "python3"
  },
  "language_info": {
   "codemirror_mode": {
    "name": "ipython",
    "version": 3
   },
   "file_extension": ".py",
   "mimetype": "text/x-python",
   "name": "python",
   "nbconvert_exporter": "python",
   "pygments_lexer": "ipython3",
   "version": "3.8.3"
  }
 },
 "nbformat": 4,
 "nbformat_minor": 4
}
